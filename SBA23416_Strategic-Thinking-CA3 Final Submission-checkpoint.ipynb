{
 "cells": [
  {
   "cell_type": "markdown",
   "id": "35f31d1c",
   "metadata": {},
   "source": [
    "# Introduction"
   ]
  },
  {
   "cell_type": "markdown",
   "id": "17c99dfc",
   "metadata": {},
   "source": [
    "### Assessment Task\n",
    "\n",
    "This assessment aims to evaluate your ability to apply project management methodology to evaluate and enhance the capstone project developed in semester one. \n",
    "\n",
    "You should be able to identify the strengths and weaknesses of the capstone project from semester one and make improvements based on additional knowledge. Additionally, machine learning results should improve based on understanding the dataset, which machine learning models are best used, and why. \n",
    "\n",
    "Improving the model’s performance with hyper-tuning parameters with an understanding of the performance metrics and dataset. Finally, validate the results and report on your findings. \n",
    "\n",
    "The final report should build on from semester one and include your findings of machine learning implementation, results validation, model comparison, and any future recommendations.\n"
   ]
  },
  {
   "cell_type": "markdown",
   "id": "e1f472bd",
   "metadata": {},
   "source": [
    "#### Import Libraries"
   ]
  },
  {
   "cell_type": "code",
   "execution_count": 1,
   "id": "db38a40d",
   "metadata": {},
   "outputs": [],
   "source": [
    "import pandas as pd\n",
    "import matplotlib.pyplot as plt\n",
    "import seaborn as sns"
   ]
  },
  {
   "cell_type": "code",
   "execution_count": null,
   "id": "dbb8faf1",
   "metadata": {},
   "outputs": [],
   "source": []
  },
  {
   "cell_type": "code",
   "execution_count": null,
   "id": "e47e2a12",
   "metadata": {},
   "outputs": [],
   "source": []
  }
 ],
 "metadata": {
  "kernelspec": {
   "display_name": "Python 3 (ipykernel)",
   "language": "python",
   "name": "python3"
  },
  "language_info": {
   "codemirror_mode": {
    "name": "ipython",
    "version": 3
   },
   "file_extension": ".py",
   "mimetype": "text/x-python",
   "name": "python",
   "nbconvert_exporter": "python",
   "pygments_lexer": "ipython3",
   "version": "3.11.4"
  }
 },
 "nbformat": 4,
 "nbformat_minor": 5
}
